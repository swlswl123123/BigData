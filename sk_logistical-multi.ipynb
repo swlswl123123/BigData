{
 "cells": [
  {
   "cell_type": "code",
   "execution_count": 1,
   "metadata": {},
   "outputs": [],
   "source": [
    "import pandas as pd\n",
    "import numpy as np\n",
    "import matplotlib.pyplot as plt\n",
    "\n",
    "# machine learning\n",
    "from sklearn.linear_model import LogisticRegression\n",
    "from sklearn.svm import SVC, LinearSVC\n",
    "from sklearn.ensemble import RandomForestClassifier\n",
    "from sklearn.neighbors import KNeighborsClassifier\n",
    "from sklearn.naive_bayes import GaussianNB\n",
    "from sklearn.linear_model import Perceptron\n",
    "from sklearn.linear_model import SGDClassifier\n",
    "from sklearn.tree import DecisionTreeClassifier"
   ]
  },
  {
   "cell_type": "code",
   "execution_count": 2,
   "metadata": {},
   "outputs": [
    {
     "data": {
      "text/html": [
       "<div>\n",
       "<style scoped>\n",
       "    .dataframe tbody tr th:only-of-type {\n",
       "        vertical-align: middle;\n",
       "    }\n",
       "\n",
       "    .dataframe tbody tr th {\n",
       "        vertical-align: top;\n",
       "    }\n",
       "\n",
       "    .dataframe thead th {\n",
       "        text-align: right;\n",
       "    }\n",
       "</style>\n",
       "<table border=\"1\" class=\"dataframe\">\n",
       "  <thead>\n",
       "    <tr style=\"text-align: right;\">\n",
       "      <th></th>\n",
       "      <th>群名</th>\n",
       "      <th>群类别</th>\n",
       "      <th>群人数</th>\n",
       "      <th>消息数</th>\n",
       "      <th>稠密度</th>\n",
       "      <th>性别比</th>\n",
       "      <th>平均年龄</th>\n",
       "      <th>年龄差</th>\n",
       "      <th>地域集中度</th>\n",
       "      <th>手机比例</th>\n",
       "      <th>会话数</th>\n",
       "      <th>无回应比例</th>\n",
       "      <th>夜聊比例</th>\n",
       "      <th>图片比例</th>\n",
       "    </tr>\n",
       "  </thead>\n",
       "  <tbody>\n",
       "    <tr>\n",
       "      <th>0</th>\n",
       "      <td>**手酒吧</td>\n",
       "      <td>1</td>\n",
       "      <td>63</td>\n",
       "      <td>315</td>\n",
       "      <td>0.051715</td>\n",
       "      <td>0.882353</td>\n",
       "      <td>26.681818</td>\n",
       "      <td>6.409413</td>\n",
       "      <td>0.222222</td>\n",
       "      <td>0.088889</td>\n",
       "      <td>23</td>\n",
       "      <td>0.434783</td>\n",
       "      <td>0.085714</td>\n",
       "      <td>0.069841</td>\n",
       "    </tr>\n",
       "    <tr>\n",
       "      <th>1</th>\n",
       "      <td>**秀嘉园</td>\n",
       "      <td>1</td>\n",
       "      <td>73</td>\n",
       "      <td>2</td>\n",
       "      <td>0.010274</td>\n",
       "      <td>0.579710</td>\n",
       "      <td>27.500000</td>\n",
       "      <td>9.042524</td>\n",
       "      <td>0.406780</td>\n",
       "      <td>0.000000</td>\n",
       "      <td>2</td>\n",
       "      <td>1.000000</td>\n",
       "      <td>1.000000</td>\n",
       "      <td>0.000000</td>\n",
       "    </tr>\n",
       "    <tr>\n",
       "      <th>2</th>\n",
       "      <td>**ˇ⒊無黒\\噵丶⒈群</td>\n",
       "      <td>1</td>\n",
       "      <td>73</td>\n",
       "      <td>4</td>\n",
       "      <td>0.024163</td>\n",
       "      <td>0.750000</td>\n",
       "      <td>23.415385</td>\n",
       "      <td>4.699893</td>\n",
       "      <td>0.287879</td>\n",
       "      <td>0.500000</td>\n",
       "      <td>4</td>\n",
       "      <td>1.000000</td>\n",
       "      <td>0.000000</td>\n",
       "      <td>0.250000</td>\n",
       "    </tr>\n",
       "    <tr>\n",
       "      <th>3</th>\n",
       "      <td>**海网管工作联系基地</td>\n",
       "      <td>1</td>\n",
       "      <td>91</td>\n",
       "      <td>14</td>\n",
       "      <td>0.006105</td>\n",
       "      <td>0.901639</td>\n",
       "      <td>29.409091</td>\n",
       "      <td>2.854965</td>\n",
       "      <td>0.340426</td>\n",
       "      <td>0.142857</td>\n",
       "      <td>7</td>\n",
       "      <td>1.000000</td>\n",
       "      <td>0.250000</td>\n",
       "      <td>0.000000</td>\n",
       "    </tr>\n",
       "    <tr>\n",
       "      <th>4</th>\n",
       "      <td>tbsgame.net/bbs</td>\n",
       "      <td>1</td>\n",
       "      <td>133</td>\n",
       "      <td>2112</td>\n",
       "      <td>0.011107</td>\n",
       "      <td>0.961832</td>\n",
       "      <td>30.319672</td>\n",
       "      <td>4.669866</td>\n",
       "      <td>0.110236</td>\n",
       "      <td>0.167140</td>\n",
       "      <td>327</td>\n",
       "      <td>0.532110</td>\n",
       "      <td>0.104640</td>\n",
       "      <td>0.037879</td>\n",
       "    </tr>\n",
       "  </tbody>\n",
       "</table>\n",
       "</div>"
      ],
      "text/plain": [
       "                群名  群类别  群人数   消息数       稠密度       性别比       平均年龄       年龄差  \\\n",
       "0            **手酒吧    1   63   315  0.051715  0.882353  26.681818  6.409413   \n",
       "1            **秀嘉园    1   73     2  0.010274  0.579710  27.500000  9.042524   \n",
       "2      **ˇ⒊無黒\\噵丶⒈群    1   73     4  0.024163  0.750000  23.415385  4.699893   \n",
       "3      **海网管工作联系基地    1   91    14  0.006105  0.901639  29.409091  2.854965   \n",
       "4  tbsgame.net/bbs    1  133  2112  0.011107  0.961832  30.319672  4.669866   \n",
       "\n",
       "      地域集中度      手机比例  会话数     无回应比例      夜聊比例      图片比例  \n",
       "0  0.222222  0.088889   23  0.434783  0.085714  0.069841  \n",
       "1  0.406780  0.000000    2  1.000000  1.000000  0.000000  \n",
       "2  0.287879  0.500000    4  1.000000  0.000000  0.250000  \n",
       "3  0.340426  0.142857    7  1.000000  0.250000  0.000000  \n",
       "4  0.110236  0.167140  327  0.532110  0.104640  0.037879  "
      ]
     },
     "execution_count": 2,
     "metadata": {},
     "output_type": "execute_result"
    }
   ],
   "source": [
    "io = r'F:\\清华课程\\大数据分析\\HW1_all\\data.xlsx'\n",
    "data = pd.read_excel(io, sheet_name = 0)\n",
    "data.head()"
   ]
  },
  {
   "cell_type": "code",
   "execution_count": 3,
   "metadata": {},
   "outputs": [
    {
     "data": {
      "text/html": [
       "<div>\n",
       "<style scoped>\n",
       "    .dataframe tbody tr th:only-of-type {\n",
       "        vertical-align: middle;\n",
       "    }\n",
       "\n",
       "    .dataframe tbody tr th {\n",
       "        vertical-align: top;\n",
       "    }\n",
       "\n",
       "    .dataframe thead th {\n",
       "        text-align: right;\n",
       "    }\n",
       "</style>\n",
       "<table border=\"1\" class=\"dataframe\">\n",
       "  <thead>\n",
       "    <tr style=\"text-align: right;\">\n",
       "      <th></th>\n",
       "      <th>群名</th>\n",
       "      <th>群类别</th>\n",
       "      <th>群人数</th>\n",
       "      <th>消息数</th>\n",
       "      <th>稠密度</th>\n",
       "      <th>性别比</th>\n",
       "      <th>平均年龄</th>\n",
       "      <th>年龄差</th>\n",
       "      <th>地域集中度</th>\n",
       "      <th>手机比例</th>\n",
       "      <th>会话数</th>\n",
       "      <th>无回应比例</th>\n",
       "      <th>夜聊比例</th>\n",
       "      <th>图片比例</th>\n",
       "    </tr>\n",
       "  </thead>\n",
       "  <tbody>\n",
       "    <tr>\n",
       "      <th>0</th>\n",
       "      <td>**手酒吧</td>\n",
       "      <td>1</td>\n",
       "      <td>63</td>\n",
       "      <td>315</td>\n",
       "      <td>0.051715</td>\n",
       "      <td>0.882353</td>\n",
       "      <td>26.681818</td>\n",
       "      <td>6.409413</td>\n",
       "      <td>0.222222</td>\n",
       "      <td>0.088889</td>\n",
       "      <td>23</td>\n",
       "      <td>0.434783</td>\n",
       "      <td>0.085714</td>\n",
       "      <td>0.069841</td>\n",
       "    </tr>\n",
       "    <tr>\n",
       "      <th>1</th>\n",
       "      <td>**秀嘉园</td>\n",
       "      <td>1</td>\n",
       "      <td>73</td>\n",
       "      <td>2</td>\n",
       "      <td>0.010274</td>\n",
       "      <td>0.579710</td>\n",
       "      <td>27.500000</td>\n",
       "      <td>9.042524</td>\n",
       "      <td>0.406780</td>\n",
       "      <td>0.000000</td>\n",
       "      <td>2</td>\n",
       "      <td>1.000000</td>\n",
       "      <td>1.000000</td>\n",
       "      <td>0.000000</td>\n",
       "    </tr>\n",
       "    <tr>\n",
       "      <th>2</th>\n",
       "      <td>**ˇ⒊無黒\\噵丶⒈群</td>\n",
       "      <td>1</td>\n",
       "      <td>73</td>\n",
       "      <td>4</td>\n",
       "      <td>0.024163</td>\n",
       "      <td>0.750000</td>\n",
       "      <td>23.415385</td>\n",
       "      <td>4.699893</td>\n",
       "      <td>0.287879</td>\n",
       "      <td>0.500000</td>\n",
       "      <td>4</td>\n",
       "      <td>1.000000</td>\n",
       "      <td>0.000000</td>\n",
       "      <td>0.250000</td>\n",
       "    </tr>\n",
       "    <tr>\n",
       "      <th>3</th>\n",
       "      <td>**海网管工作联系基地</td>\n",
       "      <td>1</td>\n",
       "      <td>91</td>\n",
       "      <td>14</td>\n",
       "      <td>0.006105</td>\n",
       "      <td>0.901639</td>\n",
       "      <td>29.409091</td>\n",
       "      <td>2.854965</td>\n",
       "      <td>0.340426</td>\n",
       "      <td>0.142857</td>\n",
       "      <td>7</td>\n",
       "      <td>1.000000</td>\n",
       "      <td>0.250000</td>\n",
       "      <td>0.000000</td>\n",
       "    </tr>\n",
       "    <tr>\n",
       "      <th>4</th>\n",
       "      <td>tbsgame.net/bbs</td>\n",
       "      <td>1</td>\n",
       "      <td>133</td>\n",
       "      <td>2112</td>\n",
       "      <td>0.011107</td>\n",
       "      <td>0.961832</td>\n",
       "      <td>30.319672</td>\n",
       "      <td>4.669866</td>\n",
       "      <td>0.110236</td>\n",
       "      <td>0.167140</td>\n",
       "      <td>327</td>\n",
       "      <td>0.532110</td>\n",
       "      <td>0.104640</td>\n",
       "      <td>0.037879</td>\n",
       "    </tr>\n",
       "  </tbody>\n",
       "</table>\n",
       "</div>"
      ],
      "text/plain": [
       "                群名  群类别  群人数   消息数       稠密度       性别比       平均年龄       年龄差  \\\n",
       "0            **手酒吧    1   63   315  0.051715  0.882353  26.681818  6.409413   \n",
       "1            **秀嘉园    1   73     2  0.010274  0.579710  27.500000  9.042524   \n",
       "2      **ˇ⒊無黒\\噵丶⒈群    1   73     4  0.024163  0.750000  23.415385  4.699893   \n",
       "3      **海网管工作联系基地    1   91    14  0.006105  0.901639  29.409091  2.854965   \n",
       "4  tbsgame.net/bbs    1  133  2112  0.011107  0.961832  30.319672  4.669866   \n",
       "\n",
       "      地域集中度      手机比例  会话数     无回应比例      夜聊比例      图片比例  \n",
       "0  0.222222  0.088889   23  0.434783  0.085714  0.069841  \n",
       "1  0.406780  0.000000    2  1.000000  1.000000  0.000000  \n",
       "2  0.287879  0.500000    4  1.000000  0.000000  0.250000  \n",
       "3  0.340426  0.142857    7  1.000000  0.250000  0.000000  \n",
       "4  0.110236  0.167140  327  0.532110  0.104640  0.037879  "
      ]
     },
     "execution_count": 3,
     "metadata": {},
     "output_type": "execute_result"
    }
   ],
   "source": [
    "D = data\n",
    "D.head()"
   ]
  },
  {
   "cell_type": "code",
   "execution_count": 4,
   "metadata": {},
   "outputs": [
    {
     "data": {
      "text/plain": [
       "0       0\n",
       "1       0\n",
       "2       0\n",
       "3       0\n",
       "4       0\n",
       "       ..\n",
       "2035    4\n",
       "2036    4\n",
       "2037    4\n",
       "2038    4\n",
       "2039    4\n",
       "Name: 群类别, Length: 2040, dtype: int64"
      ]
     },
     "execution_count": 4,
     "metadata": {},
     "output_type": "execute_result"
    }
   ],
   "source": [
    "X_train = D.drop(['群名','群类别'], axis=1)\n",
    "Y_train = D['群类别']\n",
    "Y_train = Y_train-1\n",
    "Y_train"
   ]
  },
  {
   "cell_type": "code",
   "execution_count": 5,
   "metadata": {},
   "outputs": [
    {
     "data": {
      "text/html": [
       "<div>\n",
       "<style scoped>\n",
       "    .dataframe tbody tr th:only-of-type {\n",
       "        vertical-align: middle;\n",
       "    }\n",
       "\n",
       "    .dataframe tbody tr th {\n",
       "        vertical-align: top;\n",
       "    }\n",
       "\n",
       "    .dataframe thead th {\n",
       "        text-align: right;\n",
       "    }\n",
       "</style>\n",
       "<table border=\"1\" class=\"dataframe\">\n",
       "  <thead>\n",
       "    <tr style=\"text-align: right;\">\n",
       "      <th></th>\n",
       "      <th>群人数</th>\n",
       "      <th>消息数</th>\n",
       "      <th>稠密度</th>\n",
       "      <th>性别比</th>\n",
       "      <th>平均年龄</th>\n",
       "      <th>年龄差</th>\n",
       "      <th>地域集中度</th>\n",
       "      <th>手机比例</th>\n",
       "      <th>会话数</th>\n",
       "      <th>无回应比例</th>\n",
       "      <th>夜聊比例</th>\n",
       "      <th>图片比例</th>\n",
       "    </tr>\n",
       "  </thead>\n",
       "  <tbody>\n",
       "    <tr>\n",
       "      <th>0</th>\n",
       "      <td>0.006157</td>\n",
       "      <td>0.000900</td>\n",
       "      <td>0.084357</td>\n",
       "      <td>0.882353</td>\n",
       "      <td>0.436138</td>\n",
       "      <td>0.449713</td>\n",
       "      <td>0.157754</td>\n",
       "      <td>0.088889</td>\n",
       "      <td>0.019180</td>\n",
       "      <td>0.434783</td>\n",
       "      <td>0.085714</td>\n",
       "      <td>0.069841</td>\n",
       "    </tr>\n",
       "    <tr>\n",
       "      <th>1</th>\n",
       "      <td>0.011288</td>\n",
       "      <td>0.000003</td>\n",
       "      <td>0.016360</td>\n",
       "      <td>0.579710</td>\n",
       "      <td>0.462407</td>\n",
       "      <td>0.644673</td>\n",
       "      <td>0.357609</td>\n",
       "      <td>0.000000</td>\n",
       "      <td>0.000872</td>\n",
       "      <td>1.000000</td>\n",
       "      <td>1.000000</td>\n",
       "      <td>0.000000</td>\n",
       "    </tr>\n",
       "    <tr>\n",
       "      <th>2</th>\n",
       "      <td>0.011288</td>\n",
       "      <td>0.000009</td>\n",
       "      <td>0.039149</td>\n",
       "      <td>0.750000</td>\n",
       "      <td>0.331264</td>\n",
       "      <td>0.323137</td>\n",
       "      <td>0.228853</td>\n",
       "      <td>0.500000</td>\n",
       "      <td>0.002616</td>\n",
       "      <td>1.000000</td>\n",
       "      <td>0.000000</td>\n",
       "      <td>0.250000</td>\n",
       "    </tr>\n",
       "    <tr>\n",
       "      <th>3</th>\n",
       "      <td>0.020523</td>\n",
       "      <td>0.000037</td>\n",
       "      <td>0.009520</td>\n",
       "      <td>0.901639</td>\n",
       "      <td>0.523702</td>\n",
       "      <td>0.186536</td>\n",
       "      <td>0.285755</td>\n",
       "      <td>0.142857</td>\n",
       "      <td>0.005231</td>\n",
       "      <td>1.000000</td>\n",
       "      <td>0.250000</td>\n",
       "      <td>0.000000</td>\n",
       "    </tr>\n",
       "    <tr>\n",
       "      <th>4</th>\n",
       "      <td>0.042073</td>\n",
       "      <td>0.006050</td>\n",
       "      <td>0.017728</td>\n",
       "      <td>0.961832</td>\n",
       "      <td>0.552938</td>\n",
       "      <td>0.320914</td>\n",
       "      <td>0.036486</td>\n",
       "      <td>0.167140</td>\n",
       "      <td>0.284220</td>\n",
       "      <td>0.532110</td>\n",
       "      <td>0.104640</td>\n",
       "      <td>0.037879</td>\n",
       "    </tr>\n",
       "  </tbody>\n",
       "</table>\n",
       "</div>"
      ],
      "text/plain": [
       "        群人数       消息数       稠密度       性别比      平均年龄       年龄差     地域集中度  \\\n",
       "0  0.006157  0.000900  0.084357  0.882353  0.436138  0.449713  0.157754   \n",
       "1  0.011288  0.000003  0.016360  0.579710  0.462407  0.644673  0.357609   \n",
       "2  0.011288  0.000009  0.039149  0.750000  0.331264  0.323137  0.228853   \n",
       "3  0.020523  0.000037  0.009520  0.901639  0.523702  0.186536  0.285755   \n",
       "4  0.042073  0.006050  0.017728  0.961832  0.552938  0.320914  0.036486   \n",
       "\n",
       "       手机比例       会话数     无回应比例      夜聊比例      图片比例  \n",
       "0  0.088889  0.019180  0.434783  0.085714  0.069841  \n",
       "1  0.000000  0.000872  1.000000  1.000000  0.000000  \n",
       "2  0.500000  0.002616  1.000000  0.000000  0.250000  \n",
       "3  0.142857  0.005231  1.000000  0.250000  0.000000  \n",
       "4  0.167140  0.284220  0.532110  0.104640  0.037879  "
      ]
     },
     "execution_count": 5,
     "metadata": {},
     "output_type": "execute_result"
    }
   ],
   "source": [
    "X_train = (X_train-X_train.min())/(X_train.max()-X_train.min())\n",
    "X_train.head()"
   ]
  },
  {
   "cell_type": "code",
   "execution_count": 6,
   "metadata": {},
   "outputs": [
    {
     "data": {
      "text/plain": [
       "61.67"
      ]
     },
     "execution_count": 6,
     "metadata": {},
     "output_type": "execute_result"
    }
   ],
   "source": [
    "logreg = LogisticRegression(penalty = 'l2', dual=False,\n",
    "                            C =1.0, fit_intercept=True, intercept_scaling=1,\n",
    "                            class_weight='balanced', random_state=None, solver='sag',\n",
    "                            max_iter=500, multi_class='multinomial', verbose=0,\n",
    "                            warm_start=False, n_jobs=None, l1_ratio=None)\n",
    "logreg.fit(X_train, Y_train)\n",
    "# Y_pred = logreg.predict(X_test)\n",
    "acc_log = round(logreg.score(X_train, Y_train) * 100, 2)\n",
    "acc_log"
   ]
  },
  {
   "cell_type": "code",
   "execution_count": 7,
   "metadata": {},
   "outputs": [
    {
     "data": {
      "text/plain": [
       "array([0, 0, 0, ..., 1, 3, 4], dtype=int64)"
      ]
     },
     "execution_count": 7,
     "metadata": {},
     "output_type": "execute_result"
    }
   ],
   "source": [
    "logreg.predict(X_train)"
   ]
  },
  {
   "cell_type": "code",
   "execution_count": 8,
   "metadata": {},
   "outputs": [
    {
     "data": {
      "image/png": "[encoded data removed]",
      "text/plain": [
       "<Figure size 432x288 with 1 Axes>"
      ]
     },
     "metadata": {
      "needs_background": "light"
     },
     "output_type": "display_data"
    }
   ],
   "source": [
    "plt.scatter(range(2040), Y_train,s=50, marker = 'o',linewidth = 0.5)\n",
    "y_pred = logreg.predict(X_train)\n",
    "plt.scatter(range(2040),y_pred,s = 5,marker = 'x',linewidth = 0.5)\n",
    "plt.show()"
   ]
  },
  {
   "cell_type": "code",
   "execution_count": 9,
   "metadata": {},
   "outputs": [
    {
     "data": {
      "text/plain": [
       "(5, 12)"
      ]
     },
     "execution_count": 9,
     "metadata": {},
     "output_type": "execute_result"
    }
   ],
   "source": [
    "C = logreg.coef_\n",
    "C.shape"
   ]
  },
  {
   "cell_type": "code",
   "execution_count": 10,
   "metadata": {},
   "outputs": [
    {
     "data": {
      "text/plain": [
       "(5,)"
      ]
     },
     "execution_count": 10,
     "metadata": {},
     "output_type": "execute_result"
    }
   ],
   "source": [
    "B = logreg.intercept_\n",
    "B.shape"
   ]
  },
  {
   "cell_type": "code",
   "execution_count": 11,
   "metadata": {},
   "outputs": [
    {
     "ename": "ValueError",
     "evalue": "operands could not be broadcast together with shapes (5,2040) (5,) ",
     "output_type": "error",
     "traceback": [
      "\u001b[1;31m---------------------------------------------------------------------------\u001b[0m",
      "\u001b[1;31mValueError\u001b[0m                                Traceback (most recent call last)",
      "\u001b[1;32m<ipython-input-11-eac2d4d0cc35>\u001b[0m in \u001b[0;36m<module>\u001b[1;34m\u001b[0m\n\u001b[0;32m      1\u001b[0m \u001b[0mC\u001b[0m\u001b[1;33m.\u001b[0m\u001b[0mshape\u001b[0m\u001b[1;33m,\u001b[0m \u001b[0mX_train\u001b[0m\u001b[1;33m.\u001b[0m\u001b[0mshape\u001b[0m\u001b[1;33m\u001b[0m\u001b[1;33m\u001b[0m\u001b[0m\n\u001b[1;32m----> 2\u001b[1;33m \u001b[0mA\u001b[0m \u001b[1;33m=\u001b[0m \u001b[0mnp\u001b[0m\u001b[1;33m.\u001b[0m\u001b[0mmatmul\u001b[0m\u001b[1;33m(\u001b[0m\u001b[0mC\u001b[0m\u001b[1;33m,\u001b[0m \u001b[0mnp\u001b[0m\u001b[1;33m.\u001b[0m\u001b[0mtranspose\u001b[0m\u001b[1;33m(\u001b[0m\u001b[0mnp\u001b[0m\u001b[1;33m.\u001b[0m\u001b[0marray\u001b[0m\u001b[1;33m(\u001b[0m\u001b[0mX_train\u001b[0m\u001b[1;33m)\u001b[0m\u001b[1;33m)\u001b[0m\u001b[1;33m)\u001b[0m \u001b[1;33m+\u001b[0m \u001b[0mB\u001b[0m\u001b[1;33m\u001b[0m\u001b[1;33m\u001b[0m\u001b[0m\n\u001b[0m\u001b[0;32m      3\u001b[0m \u001b[0mR\u001b[0m \u001b[1;33m=\u001b[0m \u001b[1;36m1\u001b[0m\u001b[1;33m/\u001b[0m\u001b[1;33m(\u001b[0m\u001b[1;36m1\u001b[0m \u001b[1;33m+\u001b[0m \u001b[0mnp\u001b[0m\u001b[1;33m.\u001b[0m\u001b[0mexp\u001b[0m\u001b[1;33m(\u001b[0m\u001b[1;33m-\u001b[0m\u001b[0mA\u001b[0m\u001b[1;33m)\u001b[0m\u001b[1;33m)\u001b[0m\u001b[1;33m\u001b[0m\u001b[1;33m\u001b[0m\u001b[0m\n\u001b[0;32m      4\u001b[0m \u001b[0mR\u001b[0m\u001b[1;33m\u001b[0m\u001b[1;33m\u001b[0m\u001b[0m\n",
      "\u001b[1;31mValueError\u001b[0m: operands could not be broadcast together with shapes (5,2040) (5,) "
     ]
    }
   ],
   "source": [
    "C.shape, X_train.shape\n",
    "A = np.matmul(C, np.transpose(np.array(X_train))) + B\n",
    "R = 1/(1 + np.exp(-A))\n",
    "R"
   ]
  },
  {
   "cell_type": "code",
   "execution_count": 12,
   "metadata": {},
   "outputs": [
    {
     "ename": "NameError",
     "evalue": "name 'R' is not defined",
     "output_type": "error",
     "traceback": [
      "\u001b[1;31m---------------------------------------------------------------------------\u001b[0m",
      "\u001b[1;31mNameError\u001b[0m                                 Traceback (most recent call last)",
      "\u001b[1;32m<ipython-input-12-53e77d667af1>\u001b[0m in \u001b[0;36m<module>\u001b[1;34m\u001b[0m\n\u001b[1;32m----> 1\u001b[1;33m \u001b[0mplt\u001b[0m\u001b[1;33m.\u001b[0m\u001b[0mscatter\u001b[0m\u001b[1;33m(\u001b[0m\u001b[0mrange\u001b[0m\u001b[1;33m(\u001b[0m\u001b[1;36m784\u001b[0m\u001b[1;33m)\u001b[0m\u001b[1;33m,\u001b[0m\u001b[0mR\u001b[0m\u001b[1;33m,\u001b[0m \u001b[0ms\u001b[0m\u001b[1;33m=\u001b[0m\u001b[1;36m1\u001b[0m\u001b[1;33m)\u001b[0m\u001b[1;33m\u001b[0m\u001b[1;33m\u001b[0m\u001b[0m\n\u001b[0m\u001b[0;32m      2\u001b[0m \u001b[0mplt\u001b[0m\u001b[1;33m.\u001b[0m\u001b[0mscatter\u001b[0m\u001b[1;33m(\u001b[0m\u001b[0mrange\u001b[0m\u001b[1;33m(\u001b[0m\u001b[1;36m784\u001b[0m\u001b[1;33m)\u001b[0m\u001b[1;33m,\u001b[0m \u001b[0mY_train\u001b[0m\u001b[1;33m,\u001b[0m \u001b[0ms\u001b[0m\u001b[1;33m=\u001b[0m\u001b[1;36m1\u001b[0m\u001b[1;33m)\u001b[0m\u001b[1;33m\u001b[0m\u001b[1;33m\u001b[0m\u001b[0m\n\u001b[0;32m      3\u001b[0m \u001b[0mplt\u001b[0m\u001b[1;33m.\u001b[0m\u001b[0mshow\u001b[0m\u001b[1;33m(\u001b[0m\u001b[1;33m)\u001b[0m\u001b[1;33m\u001b[0m\u001b[1;33m\u001b[0m\u001b[0m\n",
      "\u001b[1;31mNameError\u001b[0m: name 'R' is not defined"
     ]
    }
   ],
   "source": [
    "plt.scatter(range(784),R, s=1)\n",
    "plt.scatter(range(784), Y_train, s=1)\n",
    "plt.show()"
   ]
  },
  {
   "cell_type": "code",
   "execution_count": null,
   "metadata": {},
   "outputs": [],
   "source": []
  }
 ],
 "metadata": {
  "kernelspec": {
   "display_name": "Python 3",
   "language": "python",
   "name": "python3"
  },
  "language_info": {
   "codemirror_mode": {
    "name": "ipython",
    "version": 3
   },
   "file_extension": ".py",
   "mimetype": "text/x-python",
   "name": "python",
   "nbconvert_exporter": "python",
   "pygments_lexer": "ipython3",
   "version": "3.7.9"
  }
 },
 "nbformat": 4,
 "nbformat_minor": 4
}
